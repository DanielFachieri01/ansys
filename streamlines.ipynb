{
 "cells": [
  {
   "cell_type": "code",
   "execution_count": null,
   "metadata": {
    "id": "ZF-LxmlWXMj7"
   },
   "outputs": [],
   "source": [
    "import numpy as np\n",
    "import pandas as pd\n",
    "import matplotlib.pyplot as plt\n",
    "from matplotlib.colors import LogNorm\n",
    "\n",
    "\n",
    "\n",
    "# Ler os dados do arquivo CSV\n",
    "file_path = '/content/Transitent_gem_modified.txt'  # Caminho para o arquivo de dados\n",
    "df = pd.read_csv(file_path,delimiter = \",\")\n",
    "\n",
    "# Definir os limites do intervalo de z (opcional)\n",
    "zmin = 0\n",
    "zmax = 15\n",
    "\n",
    "zmin = zmin*1e-3\n",
    "zmax = zmax*1e-3\n",
    "\n",
    "#regiao = \"GEM3 - Anodo\"\n",
    "df_filtered = df[(df['    z-coordinate'] >= zmin) & (df['    z-coordinate'] <= zmax)]\n",
    "\n",
    "# Definir o tamanho da grade 2D\n",
    "num_bins = 60\n",
    "\n",
    "# Criar a matriz do histograma 2D\n",
    "heatmap, xedges, yedges = np.histogram2d(df_filtered['    x-coordinate'],\n",
    "                                         df_filtered['    y-coordinate'],\n",
    "                                         bins=num_bins,\n",
    "                                         weights=df_filtered['  total-pressure'],\n",
    "                                         range=[[0,0.3],[0,0.3]])\n",
    "\n",
    "counts, _, _ = np.histogram2d(df_filtered['    x-coordinate'], df_filtered['    y-coordinate'], bins=num_bins,range=[[0,0.3],[0,0.3]])\n",
    "\n",
    "# Calcular a pressão média em cada bin (evitar divisão por zero)\n",
    "mean_pressure = np.divide(heatmap, counts, where=counts!=0)\n",
    "\n",
    "\n",
    "# Tratar os valores NaN (resultantes de bins sem contagens) substituindo por zero\n",
    "mean_pressure = np.nan_to_num(mean_pressure)\n",
    "\n",
    "for i in range(len(mean_pressure)):\n",
    "  for j in range(len(mean_pressure[i])):\n",
    "    mean_pressure[i][j] = (mean_pressure[i][j])\n",
    "\n",
    "# Valor da pressão atmoférica de SP\n",
    "#sp_pressure = 92340\n",
    "\n",
    "\n",
    "#mean_pressure = (mean_pressure/ref)*sp_pressure\n",
    "\n",
    "\n",
    "# Plotar o histograma 2D\n",
    "plt.figure(figsize=(6, 6))\n",
    "plt.imshow(mean_pressure.T, origin='lower', cmap='viridis', extent=(0, 0.3, 0, 0.3) )\n",
    "#plt.colorbar(label='Pressão Média (Pa)')\n",
    "#cbar.ax.yaxis.set_major_formatter(FuncFormatter(pressure_format))\n",
    "plt.colorbar(label='Variação percentual da pressão (%)')\n",
    "plt.title(f'Pressão Média em Z = {zmin*1000,zmax*1000}mm , bin = {num_bins,num_bins}',fontsize = 10)\n",
    "plt.xlabel('Posição X')\n",
    "plt.ylabel('Posição Y')\n",
    "plt.gca().set_aspect('equal', adjustable='box')\n",
    "plt.hlines(0.025, 0.025,0.275, linestyles='dashed', colors='red')\n",
    "plt.hlines(0.275, 0.025,0.275, linestyles='dashed', colors='red')\n",
    "plt.vlines(0.275, 0.025,0.275, linestyles='dashed', colors='red')\n",
    "plt.vlines(0.025, 0.025,0.275, linestyles='dashed', colors='red')\n",
    "#plt.text(0.2,0.28, regiao, color=\"red\",fontsize = 11)\n",
    "#plt.savefig(\"/content/\" + regiao + \".png\")\n",
    "plt.show()\n"
   ]
  },
  {
   "cell_type": "code",
   "execution_count": 20,
   "metadata": {
    "executionInfo": {
     "elapsed": 33,
     "status": "ok",
     "timestamp": 1743451262632,
     "user": {
      "displayName": "Daniel Neves Fachieri",
      "userId": "04892924693139647750"
     },
     "user_tz": 180
    },
    "id": "yQkQ97z-kWlA"
   },
   "outputs": [],
   "source": [
    "import numpy as np\n",
    "import pandas as pd\n",
    "import scipy.interpolate as interp\n",
    "import scipy.integrate as integrate\n",
    "import matplotlib.pyplot as plt\n",
    "from mpl_toolkits.mplot3d import Axes3D\n",
    "from concurrent.futures import ProcessPoolExecutor\n",
    "import pickle\n",
    "\n",
    "def load_data(filename, num_seed=0.999):\n",
    "    # Carregar o arquivo CSV e remover os espaços do cabeçalho\n",
    "    arq = np.genfromtxt(filename, delimiter=',', skip_header=1)  # Lê o arquivo ignorando a primeira linha (cabeçalho)\n",
    "\n",
    "    # Dividir os dados nas colunas: x, y, z e as velocidades (vx, vy, vz)\n",
    "    data = arq[:, [1, 2, 3, 5, 6, 7]]\n",
    "\n",
    "    # Filtrando as sementes, onde 'x-coordinate' é maior que num_seed vezes o valor máximo de 'x-coordinate'\n",
    "    max_x = np.max(arq[:, 1])  # Máximo da coluna de 'x-coordinate'\n",
    "    seeds = arq[arq[:, 1] >= max_x * num_seed, 1:4]  # Selecionando as colunas de 'x-coordinate', 'y-coordinate', 'z-coordinate'\n",
    "\n",
    "    return seeds, data\n",
    "\n",
    "def create_interpolator(data):\n",
    "    #vou criar o interpolador pra ter o valor da velocidade em qualquer ponto\n",
    "    pontos = data[:,:3]\n",
    "    velocidades = data[:,3:]\n",
    "    #retornar a função do interpolador para acessar dado pontos qualquer x0,y0,z0\n",
    "    return interp.NearestNDInterpolator(pontos, velocidades)\n",
    "\n",
    "\n",
    "def streamline(interpolator, seeds, t_max=500, dt=0.2):\n",
    "    def velocity(t, y): #função que serve de input para o integrador RK4\n",
    "      v = interpolator(y)\n",
    "      return v \n",
    "\n",
    "    sol = [integrate.solve_ivp(velocity, [0, t_max], seed, t_eval=np.arange(0, t_max, dt), method = \"RK45\").y for seed in seeds]\n",
    "    \n",
    "    return sol\n",
    "\n",
    "def plot_streamlines(streamlines):\n",
    "    fig = plt.figure()\n",
    "    ax = fig.add_subplot(111, projection='3d')\n",
    "    #ax.scatter(x, y, z, s=1,color=\"gray\", alpha=0.01)\n",
    "\n",
    "    for streamline in streamlines:\n",
    "        ax.plot(*streamline, color='b')\n",
    "\n",
    "    plt.show()\n",
    "\n",
    "def recreate_vel_field(interpolator, streamlines):\n",
    "    contador = len(streamlines)\n",
    "    i = 0\n",
    "    \n",
    "    # Inicializa os arrays como ndarrays com o tamanho apropriado\n",
    "    list_streamline = np.empty((contador, ), dtype=object)  # Armazenar as streamlines\n",
    "    list_modv = np.empty((contador, ), dtype=object)         # Para armazenar os módulos das velocidades\n",
    "    list_medias = np.zeros(contador)                         # Para armazenar as médias\n",
    "    \n",
    "    for idx, streamline in enumerate(streamlines):\n",
    "        modv = []\n",
    "        for pontos in streamline.T:\n",
    "            modv.append(np.linalg.norm(interpolator(pontos), axis=1))\n",
    "        \n",
    "        # Aqui substituímos o append, atribuindo diretamente ao índice\n",
    "        list_modv[idx] = np.array(modv)  # Convertemos modv para um ndarray\n",
    "        list_medias[idx] = np.mean(list_modv[idx])  # Calculamos a média do vetor de módulos\n",
    "        \n",
    "        i += 1\n",
    "        print(f\"loading... {100 * i // contador}%\")\n",
    "\n",
    "    return list_modv, list_medias\n",
    "\n",
    "\n",
    "def RTD(streamlines, modv):\n",
    "    #tempo de residencia é o o tamanho da streamline dividido pela velociade média\n",
    "    # (M,N,3)\n",
    "    tempos = []\n",
    "    #calcular o tamanho da streamline com um integrador\n",
    "    for streamline, v in zip(streamlines,modv):\n",
    "      diff = np.diff(np.array(streamline).T,axis=0)\n",
    "      distancia = np.linalg.norm(diff,axis=1)\n",
    "      comprimento = np.sum(distancia)\n",
    "      tempos.append(comprimento/v)\n",
    "\n",
    "    return tempos"
   ]
  },
  {
   "cell_type": "code",
   "execution_count": 2,
   "metadata": {},
   "outputs": [],
   "source": [
    "with open(r\"C:\\Users\\Daniel\\Documents\\ansys data\\streamlines_gem_modified\\interpolator.pickle\",\"rb\") as interpol:\n",
    "    interpolator = pickle.load(interpol)\n",
    "\n",
    "#naosei ,_ = load_data(r\"C:\\Users\\Daniel\\Documents\\ansys data\\streamlines_gem_modified\\sol_gem_modified_nodes.txt\",0.9999)\n",
    "seeds,df = load_data(r\"C:\\Users\\Daniel\\Documents\\ansys data\\streamlines_gem_modified\\sol_gem_modified_cell.txt\",0.9999)"
   ]
  },
  {
   "cell_type": "code",
   "execution_count": 8,
   "metadata": {},
   "outputs": [
    {
     "data": {
      "image/png": "[encoded data removed]",
      "text/plain": [
       "<Figure size 640x480 with 1 Axes>"
      ]
     },
     "metadata": {},
     "output_type": "display_data"
    }
   ],
   "source": [
    "seeds = np.array(seeds)\n",
    "plt.figure()\n",
    "plt.scatter(seeds[:,1],seeds[:,2],s=10,color=\"b\")\n",
    "plt.title(f\"Número de pontos iniciais = {len(seeds)}\")\n",
    "plt.xlabel(\"Y (m)\")\n",
    "plt.ylabel(\"Z (m)\")\n",
    "plt.show()"
   ]
  },
  {
   "cell_type": "code",
   "execution_count": 9,
   "metadata": {},
   "outputs": [],
   "source": [
    "interpolator = create_interpolator(df)\n"
   ]
  },
  {
   "cell_type": "code",
   "execution_count": 10,
   "metadata": {},
   "outputs": [],
   "source": [
    "import pickle\n",
    "caminho_save_interpolator = r\"C:\\Users\\Daniel\\Documents\\ansys data\\streamlines_gem_modified\\interpolator.pickle\"\n",
    "with open(caminho_save_interpolator, 'wb') as file:\n",
    "    pickle.dump(interpolator, file)"
   ]
  },
  {
   "cell_type": "code",
   "execution_count": 21,
   "metadata": {},
   "outputs": [],
   "source": [
    "streamlines = streamline(interpolator,seeds)"
   ]
  },
  {
   "cell_type": "code",
   "execution_count": 26,
   "metadata": {},
   "outputs": [
    {
     "data": {
      "image/png": "[encoded data removed]",
      "text/plain": [
       "<Figure size 640x480 with 1 Axes>"
      ]
     },
     "metadata": {},
     "output_type": "display_data"
    }
   ],
   "source": [
    "plot_streamlines(streamlines)"
   ]
  },
  {
   "cell_type": "code",
   "execution_count": 68,
   "metadata": {},
   "outputs": [],
   "source": [
    "caminho_save_streamlines = r\"C:\\Users\\Daniel\\Documents\\ansys data\\streamlines_gem_modified\\streamlines.pickle\"\n",
    "with open(caminho_save_streamlines, 'wb') as file2:\n",
    "    pickle.dump(streamlines, file2)"
   ]
  },
  {
   "cell_type": "code",
   "execution_count": 67,
   "metadata": {},
   "outputs": [
    {
     "name": "stdout",
     "output_type": "stream",
     "text": [
      "loading... 0%\n",
      "loading... 0%\n",
      "loading... 0%\n",
      "loading... 0%\n",
      "loading... 0%\n",
      "loading... 0%\n",
      "loading... 0%\n",
      "loading... 1%\n"
     ]
    },
    {
     "ename": "KeyboardInterrupt",
     "evalue": "",
     "output_type": "error",
     "traceback": [
      "\u001b[31m---------------------------------------------------------------------------\u001b[39m",
      "\u001b[31mKeyboardInterrupt\u001b[39m                         Traceback (most recent call last)",
      "\u001b[36mCell\u001b[39m\u001b[36m \u001b[39m\u001b[32mIn[67]\u001b[39m\u001b[32m, line 1\u001b[39m\n\u001b[32m----> \u001b[39m\u001b[32m1\u001b[39m modv = \u001b[43mrecreate_vel_field\u001b[49m\u001b[43m(\u001b[49m\u001b[43minterpolator\u001b[49m\u001b[43m,\u001b[49m\u001b[43mstreamlines\u001b[49m\u001b[43m)\u001b[49m\n",
      "\u001b[36mCell\u001b[39m\u001b[36m \u001b[39m\u001b[32mIn[63]\u001b[39m\u001b[32m, line 54\u001b[39m, in \u001b[36mrecreate_vel_field\u001b[39m\u001b[34m(interpolator, streamlines)\u001b[39m\n\u001b[32m     52\u001b[39m \u001b[38;5;28;01mfor\u001b[39;00m streamline \u001b[38;5;129;01min\u001b[39;00m streamlines:\n\u001b[32m     53\u001b[39m   \u001b[38;5;28;01mfor\u001b[39;00m pontos \u001b[38;5;129;01min\u001b[39;00m (streamline.T):\n\u001b[32m---> \u001b[39m\u001b[32m54\u001b[39m     list_modv.append(\u001b[43mnp\u001b[49m\u001b[43m.\u001b[49m\u001b[43mlinalg\u001b[49m\u001b[43m.\u001b[49m\u001b[43mnorm\u001b[49m\u001b[43m(\u001b[49m\u001b[43minterpolator\u001b[49m\u001b[43m(\u001b[49m\u001b[43mpontos\u001b[49m\u001b[43m)\u001b[49m\u001b[43m,\u001b[49m\u001b[43maxis\u001b[49m\u001b[43m=\u001b[49m\u001b[32;43m1\u001b[39;49m\u001b[43m)\u001b[49m)\n\u001b[32m     55\u001b[39m   list_medias.append(np.mean(list_modv))\n\u001b[32m     57\u001b[39m   i+=\u001b[32m1\u001b[39m\n",
      "\u001b[36mFile \u001b[39m\u001b[32mc:\\Users\\Daniel\\AppData\\Local\\Programs\\Python\\Python313\\Lib\\site-packages\\numpy\\linalg\\_linalg.py:2571\u001b[39m, in \u001b[36m_norm_dispatcher\u001b[39m\u001b[34m(x, ord, axis, keepdims)\u001b[39m\n\u001b[32m   2567\u001b[39m     result = op(svd(y, compute_uv=\u001b[38;5;28;01mFalse\u001b[39;00m), axis=-\u001b[32m1\u001b[39m)\n\u001b[32m   2568\u001b[39m     \u001b[38;5;28;01mreturn\u001b[39;00m result\n\u001b[32m-> \u001b[39m\u001b[32m2571\u001b[39m \u001b[38;5;28;01mdef\u001b[39;00m\u001b[38;5;250m \u001b[39m\u001b[34m_norm_dispatcher\u001b[39m(x, \u001b[38;5;28mord\u001b[39m=\u001b[38;5;28;01mNone\u001b[39;00m, axis=\u001b[38;5;28;01mNone\u001b[39;00m, keepdims=\u001b[38;5;28;01mNone\u001b[39;00m):\n\u001b[32m   2572\u001b[39m     \u001b[38;5;28;01mreturn\u001b[39;00m (x,)\n\u001b[32m   2575\u001b[39m \u001b[38;5;129m@array_function_dispatch\u001b[39m(_norm_dispatcher)\n\u001b[32m   2576\u001b[39m \u001b[38;5;28;01mdef\u001b[39;00m\u001b[38;5;250m \u001b[39m\u001b[34mnorm\u001b[39m(x, \u001b[38;5;28mord\u001b[39m=\u001b[38;5;28;01mNone\u001b[39;00m, axis=\u001b[38;5;28;01mNone\u001b[39;00m, keepdims=\u001b[38;5;28;01mFalse\u001b[39;00m):\n",
      "\u001b[31mKeyboardInterrupt\u001b[39m: "
     ]
    }
   ],
   "source": [
    "modv = recreate_vel_field(interpolator,streamlines)"
   ]
  },
  {
   "cell_type": "code",
   "execution_count": null,
   "metadata": {},
   "outputs": [],
   "source": [
    "tempos = RTD(streamlines,modv)"
   ]
  },
  {
   "cell_type": "code",
   "execution_count": 30,
   "metadata": {},
   "outputs": [
    {
     "data": {
      "text/plain": [
       "(461, 3)"
      ]
     },
     "execution_count": 30,
     "metadata": {},
     "output_type": "execute_result"
    }
   ],
   "source": [
    "streamlines = [streamline(interpolator,seed) for seed in seed]"
   ]
  },
  {
   "cell_type": "code",
   "execution_count": null,
   "metadata": {},
   "outputs": [],
   "source": [
    "modv = recreate_vel_field(interpolator,streamlines)\n",
    "tempos = RTD(streamlines,modv)"
   ]
  },
  {
   "cell_type": "code",
   "execution_count": null,
   "metadata": {},
   "outputs": [
    {
     "ename": "TypeError",
     "evalue": "tuple indices must be integers or slices, not str",
     "output_type": "error",
     "traceback": [
      "\u001b[31m---------------------------------------------------------------------------\u001b[39m",
      "\u001b[31mTypeError\u001b[39m                                 Traceback (most recent call last)",
      "\u001b[36mCell\u001b[39m\u001b[36m \u001b[39m\u001b[32mIn[22]\u001b[39m\u001b[32m, line 1\u001b[39m\n\u001b[32m----> \u001b[39m\u001b[32m1\u001b[39m np.array(df[\u001b[43mdf\u001b[49m\u001b[43m[\u001b[49m\u001b[33;43m'\u001b[39;49m\u001b[33;43mx-coordinate\u001b[39;49m\u001b[33;43m'\u001b[39;49m\u001b[43m]\u001b[49m >= df[\u001b[33m'\u001b[39m\u001b[33mx-coordinate\u001b[39m\u001b[33m'\u001b[39m].max()*\u001b[32m0.999\u001b[39m][[\u001b[33m'\u001b[39m\u001b[33mx-coordinate\u001b[39m\u001b[33m'\u001b[39m,\u001b[33m'\u001b[39m\u001b[33my-coordinate\u001b[39m\u001b[33m'\u001b[39m,\u001b[33m'\u001b[39m\u001b[33mz-coordinate\u001b[39m\u001b[33m'\u001b[39m]])\n",
      "\u001b[31mTypeError\u001b[39m: tuple indices must be integers or slices, not str"
     ]
    }
   ],
   "source": [
    "np.array(df[df['x-coordinate'] >= df['x-coordinate'].max()*0.999][['x-coordinate','y-coordinate','z-coordinate']])\n"
   ]
  },
  {
   "cell_type": "code",
   "execution_count": null,
   "metadata": {},
   "outputs": [],
   "source": [
    "\n",
    "interpolator = create_interpolator(df)\n",
    "seeds = np.array(df[df['x-coordinate'] >= df['x-coordinate'].max()*0.999][['x-coordinate','y-coordinate','z-coordinate']])\n"
   ]
  },
  {
   "cell_type": "code",
   "execution_count": null,
   "metadata": {},
   "outputs": [
    {
     "ename": "IndexError",
     "evalue": "only integers, slices (`:`), ellipsis (`...`), numpy.newaxis (`None`) and integer or boolean arrays are valid indices",
     "output_type": "error",
     "traceback": [
      "\u001b[31m---------------------------------------------------------------------------\u001b[39m",
      "\u001b[31mIndexError\u001b[39m                                Traceback (most recent call last)",
      "\u001b[36mCell\u001b[39m\u001b[36m \u001b[39m\u001b[32mIn[4]\u001b[39m\u001b[32m, line 1\u001b[39m\n\u001b[32m----> \u001b[39m\u001b[32m1\u001b[39m np.array(df[\u001b[43mdf\u001b[49m\u001b[43m[\u001b[49m\u001b[33;43m'\u001b[39;49m\u001b[33;43mx-coordinate\u001b[39;49m\u001b[33;43m'\u001b[39;49m\u001b[43m]\u001b[49m >= df[\u001b[33m'\u001b[39m\u001b[33mx-coordinate\u001b[39m\u001b[33m'\u001b[39m].max()*\u001b[32m0.999\u001b[39m][[\u001b[33m'\u001b[39m\u001b[33mx-coordinate\u001b[39m\u001b[33m'\u001b[39m,\u001b[33m'\u001b[39m\u001b[33my-coordinate\u001b[39m\u001b[33m'\u001b[39m,\u001b[33m'\u001b[39m\u001b[33mz-coordinate\u001b[39m\u001b[33m'\u001b[39m]])\n",
      "\u001b[31mIndexError\u001b[39m: only integers, slices (`:`), ellipsis (`...`), numpy.newaxis (`None`) and integer or boolean arrays are valid indices"
     ]
    }
   ],
   "source": [
    "np.array(df[df['x-coordinate'] >= df['x-coordinate'].max()*0.999][['x-coordinate','y-coordinate','z-coordinate']])"
   ]
  },
  {
   "cell_type": "code",
   "execution_count": null,
   "metadata": {},
   "outputs": [],
   "source": [
    "np.array(df[df['x-coordinate'] >= df['x-coordinate'].max()*0.999][['x-coordinate','y-coordinate','z-coordinate']]).shape"
   ]
  },
  {
   "cell_type": "code",
   "execution_count": 211,
   "metadata": {
    "colab": {
     "base_uri": "https://localhost:8080/"
    },
    "executionInfo": {
     "elapsed": 27,
     "status": "ok",
     "timestamp": 1743451161920,
     "user": {
      "displayName": "Daniel Neves Fachieri",
      "userId": "04892924693139647750"
     },
     "user_tz": 180
    },
    "id": "npGEVNrmyH8W",
    "outputId": "bbb54980-f047-475b-f70a-684d27cfe167"
   },
   "outputs": [
    {
     "name": "stdout",
     "output_type": "stream",
     "text": [
      "2.4401128445374387\n"
     ]
    }
   ],
   "source": [
    "# Calcular as diferenças entre pontos consecutivos\n",
    "diff = np.diff(np.array(streamlines[0]).T, axis=0)  # Diferença entre as linhas consecutivas\n",
    "\n",
    "# Calcular a norma (distância euclidiana) de cada vetor de diferença\n",
    "distances = np.linalg.norm(diff, axis=1)\n",
    "\n",
    "# Calcular o comprimento total somando as distâncias\n",
    "L = np.sum(distances)\n",
    "print(L/modv[0])"
   ]
  },
  {
   "cell_type": "code",
   "execution_count": 209,
   "metadata": {
    "colab": {
     "base_uri": "https://localhost:8080/"
    },
    "executionInfo": {
     "elapsed": 8,
     "status": "ok",
     "timestamp": 1743451135748,
     "user": {
      "displayName": "Daniel Neves Fachieri",
      "userId": "04892924693139647750"
     },
     "user_tz": 180
    },
    "id": "1Py13JYZwUo6",
    "outputId": "126f62b1-2ae5-4102-993c-be570b84ee6d"
   },
   "outputs": [
    {
     "name": "stdout",
     "output_type": "stream",
     "text": [
      "(272, 3)\n"
     ]
    }
   ],
   "source": [
    "array = np.array(streamlines[0]).T\n",
    "print(array.shape)"
   ]
  },
  {
   "cell_type": "code",
   "execution_count": 172,
   "metadata": {
    "colab": {
     "base_uri": "https://localhost:8080/"
    },
    "executionInfo": {
     "elapsed": 16,
     "status": "ok",
     "timestamp": 1743448420940,
     "user": {
      "displayName": "Daniel Neves Fachieri",
      "userId": "04892924693139647750"
     },
     "user_tz": 180
    },
    "id": "w4y5CjqRJWUZ",
    "outputId": "add9d214-8bd6-468f-9bda-6f9b13cccad1"
   },
   "outputs": [
    {
     "name": "stdout",
     "output_type": "stream",
     "text": [
      "[-5.57593450e-01 -4.45246443e-03 -4.39226408e-03 -3.43414938e+00\n",
      " -6.38613755e-02  2.10061706e-02 -3.53840835e-01  1.76727073e-03\n",
      " -5.30953007e-03]\n",
      "[[-5.57593450e-01 -4.45246443e-03 -4.39226408e-03]\n",
      " [-3.43414938e+00 -6.38613755e-02  2.10061706e-02]\n",
      " [-3.53840835e-01  1.76727073e-03 -5.30953007e-03]]\n"
     ]
    }
   ],
   "source": [
    "v = interpolator([[0.31, 0.0125, 0.0046],[0.32989365, 0.01135485, 0.00454936],[0.30, 0.013, 0.005]])\n",
    "mask = np.isnan(v)\n",
    "print(v[~mask])\n",
    "\n",
    "print(v[~mask].reshape(-1,3))"
   ]
  },
  {
   "cell_type": "code",
   "execution_count": 220,
   "metadata": {
    "executionInfo": {
     "elapsed": 3017685,
     "status": "ok",
     "timestamp": 1743454358288,
     "user": {
      "displayName": "Daniel Neves Fachieri",
      "userId": "04892924693139647750"
     },
     "user_tz": 180
    },
    "id": "TBRgwNP8xeoo"
   },
   "outputs": [],
   "source": [
    "import pickle\n",
    "file_path = \"/content/Transitent_gem_modified.txt\"\n",
    "\n",
    "data = load_data(file_path)\n",
    "#interpolator = create_interpolator(x, y, z, vx, vy, vz)\n",
    "\n",
    "interpolator_drive = \"/content/drive/MyDrive/Colab Notebooks/interpolator.pickle\"\n",
    "\n",
    "with open(interpolator_drive, 'rb') as f2:\n",
    "    interpolator = pickle.load(f2)\n",
    "df = pd.read_csv(file_path,delimiter = \",\")\n",
    "df.columns = df.columns.str.strip()  #remover os espaços do arquivo\n",
    "seeds = np.array(df[df['x-coordinate'] >= df['x-coordinate'].max()*0.999][['x-coordinate','y-coordinate','z-coordinate']])\n",
    "\n",
    "streamlines = [streamline(interpolator, seed) for seed in seeds]\n",
    "\n"
   ]
  },
  {
   "cell_type": "code",
   "execution_count": 221,
   "metadata": {
    "colab": {
     "base_uri": "https://localhost:8080/"
    },
    "executionInfo": {
     "elapsed": 2391614,
     "status": "ok",
     "timestamp": 1743456749909,
     "user": {
      "displayName": "Daniel Neves Fachieri",
      "userId": "04892924693139647750"
     },
     "user_tz": 180
    },
    "id": "eoS2hPICkbzR",
    "outputId": "97d96af4-92af-4df2-d47e-4628d7ba0761"
   },
   "outputs": [
    {
     "name": "stdout",
     "output_type": "stream",
     "text": [
      "loading... 0.91%\n",
      "loading... 1.8%\n",
      "loading... 2.7%\n",
      "loading... 3.6%\n",
      "loading... 4.5%\n",
      "loading... 5.5%\n",
      "loading... 6.4%\n",
      "loading... 7.3%\n",
      "loading... 8.2%\n",
      "loading... 9.1%\n",
      "loading... 1e+01%\n",
      "loading... 1.1e+01%\n",
      "loading... 1.2e+01%\n",
      "loading... 1.3e+01%\n",
      "loading... 1.4e+01%\n",
      "loading... 1.5e+01%\n",
      "loading... 1.5e+01%\n",
      "loading... 1.6e+01%\n",
      "loading... 1.7e+01%\n",
      "loading... 1.8e+01%\n",
      "loading... 1.9e+01%\n",
      "loading... 2e+01%\n",
      "loading... 2.1e+01%\n",
      "loading... 2.2e+01%\n",
      "loading... 2.3e+01%\n",
      "loading... 2.4e+01%\n",
      "loading... 2.5e+01%\n",
      "loading... 2.5e+01%\n",
      "loading... 2.6e+01%\n",
      "loading... 2.7e+01%\n",
      "loading... 2.8e+01%\n",
      "loading... 2.9e+01%\n",
      "loading... 3e+01%\n",
      "loading... 3.1e+01%\n",
      "loading... 3.2e+01%\n",
      "loading... 3.3e+01%\n",
      "loading... 3.4e+01%\n",
      "loading... 3.5e+01%\n",
      "loading... 3.5e+01%\n",
      "loading... 3.6e+01%\n",
      "loading... 3.7e+01%\n",
      "loading... 3.8e+01%\n",
      "loading... 3.9e+01%\n",
      "loading... 4e+01%\n",
      "loading... 4.1e+01%\n",
      "loading... 4.2e+01%\n",
      "loading... 4.3e+01%\n",
      "loading... 4.4e+01%\n",
      "loading... 4.5e+01%\n",
      "loading... 4.5e+01%\n",
      "loading... 4.6e+01%\n",
      "loading... 4.7e+01%\n",
      "loading... 4.8e+01%\n",
      "loading... 4.9e+01%\n",
      "loading... 5e+01%\n",
      "loading... 5.1e+01%\n",
      "loading... 5.2e+01%\n",
      "loading... 5.3e+01%\n",
      "loading... 5.4e+01%\n",
      "loading... 5.5e+01%\n",
      "loading... 5.5e+01%\n",
      "loading... 5.6e+01%\n",
      "loading... 5.7e+01%\n",
      "loading... 5.8e+01%\n",
      "loading... 5.9e+01%\n",
      "loading... 6e+01%\n",
      "loading... 6.1e+01%\n",
      "loading... 6.2e+01%\n",
      "loading... 6.3e+01%\n",
      "loading... 6.4e+01%\n",
      "loading... 6.5e+01%\n",
      "loading... 6.5e+01%\n",
      "loading... 6.6e+01%\n",
      "loading... 6.7e+01%\n",
      "loading... 6.8e+01%\n",
      "loading... 6.9e+01%\n",
      "loading... 7e+01%\n",
      "loading... 7.1e+01%\n",
      "loading... 7.2e+01%\n",
      "loading... 7.3e+01%\n",
      "loading... 7.4e+01%\n",
      "loading... 7.5e+01%\n",
      "loading... 7.5e+01%\n",
      "loading... 7.6e+01%\n",
      "loading... 7.7e+01%\n",
      "loading... 7.8e+01%\n",
      "loading... 7.9e+01%\n",
      "loading... 8e+01%\n",
      "loading... 8.1e+01%\n",
      "loading... 8.2e+01%\n",
      "loading... 8.3e+01%\n",
      "loading... 8.4e+01%\n",
      "loading... 8.5e+01%\n",
      "loading... 8.5e+01%\n",
      "loading... 8.6e+01%\n",
      "loading... 8.7e+01%\n",
      "loading... 8.8e+01%\n",
      "loading... 8.9e+01%\n",
      "loading... 9e+01%\n",
      "loading... 9.1e+01%\n",
      "loading... 9.2e+01%\n",
      "loading... 9.3e+01%\n",
      "loading... 9.4e+01%\n",
      "loading... 9.5e+01%\n",
      "loading... 9.5e+01%\n",
      "loading... 9.6e+01%\n",
      "loading... 9.7e+01%\n",
      "loading... 9.8e+01%\n",
      "loading... 9.9e+01%\n",
      "loading... 1e+02%\n"
     ]
    }
   ],
   "source": [
    "modv = recreate_vel_field(interpolator, streamlines)\n",
    "tempos = RTD(streamlines, modv)"
   ]
  },
  {
   "cell_type": "code",
   "execution_count": 224,
   "metadata": {
    "colab": {
     "base_uri": "https://localhost:8080/",
     "height": 472
    },
    "executionInfo": {
     "elapsed": 207,
     "status": "ok",
     "timestamp": 1743456810894,
     "user": {
      "displayName": "Daniel Neves Fachieri",
      "userId": "04892924693139647750"
     },
     "user_tz": 180
    },
    "id": "XwehFQI406ee",
    "outputId": "0720aad3-b31e-430b-c1a8-017d145fcace"
   },
   "outputs": [
    {
     "data": {
      "image/png": "[encoded data removed]",
      "text/plain": [
       "<Figure size 640x480 with 1 Axes>"
      ]
     },
     "metadata": {},
     "output_type": "display_data"
    }
   ],
   "source": [
    "plt.figure()\n",
    "plt.hist(tempos,10)\n",
    "plt.xlabel(\"Tempo de Residencia (s)\")\n",
    "plt.ylabel(\"Frequência\")\n",
    "plt.title(\"Histograma do Tempo de Residencia\")\n",
    "plt.show()"
   ]
  },
  {
   "cell_type": "code",
   "execution_count": 225,
   "metadata": {
    "executionInfo": {
     "elapsed": 11906,
     "status": "ok",
     "timestamp": 1743456834663,
     "user": {
      "displayName": "Daniel Neves Fachieri",
      "userId": "04892924693139647750"
     },
     "user_tz": 180
    },
    "id": "9wR0H8UJE0u0"
   },
   "outputs": [],
   "source": [
    "import pickle\n",
    "with open('/content/drive/My Drive/streamlines.pickle', 'wb') as f:\n",
    "    pickle.dump(streamlines, f)\n",
    "\n",
    "with open('/content/drive/My Drive/interpolator.pickle', 'wb') as f:\n",
    "    pickle.dump(interpolator, f)"
   ]
  },
  {
   "cell_type": "code",
   "execution_count": 192,
   "metadata": {
    "colab": {
     "base_uri": "https://localhost:8080/"
    },
    "executionInfo": {
     "elapsed": 17,
     "status": "ok",
     "timestamp": 1743450444390,
     "user": {
      "displayName": "Daniel Neves Fachieri",
      "userId": "04892924693139647750"
     },
     "user_tz": 180
    },
    "id": "0AX-4UxqpK2K",
    "outputId": "12348cdc-7931-4056-887c-fb050bcc0503"
   },
   "outputs": [
    {
     "data": {
      "text/plain": [
       "(272, 3)"
      ]
     },
     "execution_count": 192,
     "metadata": {},
     "output_type": "execute_result"
    }
   ],
   "source": [
    "import pickle\n",
    "drive_path = \"\"\n",
    "with open('interpolator.pickle', 'wb') as f:\n",
    "    pickle.dump(interpolator, f)"
   ]
  },
  {
   "cell_type": "code",
   "execution_count": 168,
   "metadata": {
    "colab": {
     "base_uri": "https://localhost:8080/"
    },
    "executionInfo": {
     "elapsed": 11,
     "status": "ok",
     "timestamp": 1743448306364,
     "user": {
      "displayName": "Daniel Neves Fachieri",
      "userId": "04892924693139647750"
     },
     "user_tz": 180
    },
    "id": "U4Nr7dn4nBDI",
    "outputId": "448ad4c3-d2cc-48a9-8bd2-828ac6c51248"
   },
   "outputs": [
    {
     "data": {
      "text/plain": [
       "(4335, 3)"
      ]
     },
     "execution_count": 168,
     "metadata": {},
     "output_type": "execute_result"
    }
   ],
   "source": [
    "np.array(streamlines[1]).T.shape"
   ]
  },
  {
   "cell_type": "code",
   "execution_count": 189,
   "metadata": {
    "colab": {
     "base_uri": "https://localhost:8080/"
    },
    "executionInfo": {
     "elapsed": 53,
     "status": "ok",
     "timestamp": 1743450304640,
     "user": {
      "displayName": "Daniel Neves Fachieri",
      "userId": "04892924693139647750"
     },
     "user_tz": 180
    },
    "id": "xXsHWr6FvBL2",
    "outputId": "82629047-4211-4ceb-fc74-1424001f8bc2"
   },
   "outputs": [
    {
     "data": {
      "text/plain": [
       "[np.float64(0.24122628804195467),\n",
       " np.float64(0.04590414036957071),\n",
       " np.float64(0.05708895379518664),\n",
       " np.float64(0.05460880238044041),\n",
       " np.float64(0.06049871171798366),\n",
       " np.float64(0.06587232177998649),\n",
       " np.float64(0.07059560178345459),\n",
       " np.float64(0.0663915165569591),\n",
       " np.float64(0.07464090058609711),\n",
       " np.float64(0.05844189033013087),\n",
       " np.float64(0.06073496375138613),\n",
       " np.float64(0.06188808070247872),\n",
       " np.float64(0.06448936074843056),\n",
       " np.float64(0.06520205778089587),\n",
       " np.float64(0.06627990637261533)]"
      ]
     },
     "execution_count": 189,
     "metadata": {},
     "output_type": "execute_result"
    }
   ],
   "source": [
    "modv"
   ]
  },
  {
   "cell_type": "code",
   "execution_count": 213,
   "metadata": {
    "executionInfo": {
     "elapsed": 21,
     "status": "ok",
     "timestamp": 1743451270026,
     "user": {
      "displayName": "Daniel Neves Fachieri",
      "userId": "04892924693139647750"
     },
     "user_tz": 180
    },
    "id": "B0QAXvxJwLkX"
   },
   "outputs": [],
   "source": [
    "tempos = RTD(streamlines, modv)"
   ]
  },
  {
   "cell_type": "code",
   "execution_count": 184,
   "metadata": {
    "colab": {
     "base_uri": "https://localhost:8080/"
    },
    "executionInfo": {
     "elapsed": 11,
     "status": "ok",
     "timestamp": 1743449511022,
     "user": {
      "displayName": "Daniel Neves Fachieri",
      "userId": "04892924693139647750"
     },
     "user_tz": 180
    },
    "id": "tdZsrH9dsElq",
    "outputId": "0cd20b26-fa80-4d82-a6c6-f56768248013"
   },
   "outputs": [
    {
     "data": {
      "text/plain": [
       "(29600, 3)"
      ]
     },
     "execution_count": 184,
     "metadata": {},
     "output_type": "execute_result"
    }
   ],
   "source": [
    "modv.shape"
   ]
  },
  {
   "cell_type": "code",
   "execution_count": 179,
   "metadata": {
    "colab": {
     "base_uri": "https://localhost:8080/",
     "height": 274
    },
    "executionInfo": {
     "elapsed": 37,
     "status": "error",
     "timestamp": 1743449179147,
     "user": {
      "displayName": "Daniel Neves Fachieri",
      "userId": "04892924693139647750"
     },
     "user_tz": 180
    },
    "id": "I2eQ61ELqpQC",
    "outputId": "6758c9ad-03b8-40ef-cc66-f26187681665"
   },
   "outputs": [
    {
     "ename": "ValueError",
     "evalue": "setting an array element with a sequence.",
     "output_type": "error",
     "traceback": [
      "\u001b[0;31m---------------------------------------------------------------------------\u001b[0m",
      "\u001b[0;31mTypeError\u001b[0m                                 Traceback (most recent call last)",
      "\u001b[0;31mTypeError\u001b[0m: only length-1 arrays can be converted to Python scalars",
      "\nThe above exception was the direct cause of the following exception:\n",
      "\u001b[0;31mValueError\u001b[0m                                Traceback (most recent call last)",
      "\u001b[0;32m<ipython-input-179-8df45f5d990a>\u001b[0m in \u001b[0;36m<cell line: 0>\u001b[0;34m()\u001b[0m\n\u001b[1;32m      1\u001b[0m \u001b[0mlista\u001b[0m \u001b[0;34m=\u001b[0m \u001b[0mnp\u001b[0m\u001b[0;34m.\u001b[0m\u001b[0marray\u001b[0m\u001b[0;34m(\u001b[0m\u001b[0;34m[\u001b[0m\u001b[0;36m0\u001b[0m\u001b[0;34m,\u001b[0m\u001b[0;36m1\u001b[0m\u001b[0;34m]\u001b[0m\u001b[0;34m)\u001b[0m\u001b[0;34m\u001b[0m\u001b[0;34m\u001b[0m\u001b[0m\n\u001b[0;32m----> 2\u001b[0;31m \u001b[0mlista\u001b[0m\u001b[0;34m[\u001b[0m\u001b[0;36m0\u001b[0m\u001b[0;34m]\u001b[0m \u001b[0;34m=\u001b[0m \u001b[0mnp\u001b[0m\u001b[0;34m.\u001b[0m\u001b[0marray\u001b[0m\u001b[0;34m(\u001b[0m\u001b[0;34m[\u001b[0m\u001b[0;36m0\u001b[0m\u001b[0;34m,\u001b[0m\u001b[0;36m1\u001b[0m\u001b[0;34m]\u001b[0m\u001b[0;34m)\u001b[0m\u001b[0;34m\u001b[0m\u001b[0;34m\u001b[0m\u001b[0m\n\u001b[0m\u001b[1;32m      3\u001b[0m \u001b[0mprint\u001b[0m\u001b[0;34m(\u001b[0m\u001b[0mlista\u001b[0m\u001b[0;34m)\u001b[0m\u001b[0;34m\u001b[0m\u001b[0;34m\u001b[0m\u001b[0m\n",
      "\u001b[0;31mValueError\u001b[0m: setting an array element with a sequence."
     ]
    }
   ],
   "source": [
    "lista = np.array([0,1])\n",
    "lista[0] = np.array([0,1])\n",
    "print(lista)"
   ]
  },
  {
   "cell_type": "code",
   "execution_count": 147,
   "metadata": {
    "colab": {
     "base_uri": "https://localhost:8080/"
    },
    "executionInfo": {
     "elapsed": 24,
     "status": "ok",
     "timestamp": 1743447474728,
     "user": {
      "displayName": "Daniel Neves Fachieri",
      "userId": "04892924693139647750"
     },
     "user_tz": 180
    },
    "id": "PLfrOFX-kTVW",
    "outputId": "bb126d79-5d0f-49ea-940b-e18eb0b314e1"
   },
   "outputs": [
    {
     "data": {
      "text/plain": [
       "(15, 3)"
      ]
     },
     "execution_count": 147,
     "metadata": {},
     "output_type": "execute_result"
    }
   ],
   "source": [
    " np.array(df[df['x-coordinate'] >= df['x-coordinate'].max()*0.9999][['x-coordinate','y-coordinate','z-coordinate']]).shape"
   ]
  },
  {
   "cell_type": "code",
   "execution_count": 126,
   "metadata": {
    "colab": {
     "base_uri": "https://localhost:8080/"
    },
    "executionInfo": {
     "elapsed": 13,
     "status": "ok",
     "timestamp": 1743446225047,
     "user": {
      "displayName": "Daniel Neves Fachieri",
      "userId": "04892924693139647750"
     },
     "user_tz": 180
    },
    "id": "8Q4DRvaGdM2k",
    "outputId": "4b0f2969-ca2e-45d6-831c-22fdd0eb74ed"
   },
   "outputs": [
    {
     "data": {
      "text/plain": [
       "list"
      ]
     },
     "execution_count": 126,
     "metadata": {},
     "output_type": "execute_result"
    }
   ],
   "source": [
    "type(streamlines)"
   ]
  },
  {
   "cell_type": "code",
   "execution_count": 101,
   "metadata": {
    "colab": {
     "base_uri": "https://localhost:8080/"
    },
    "executionInfo": {
     "elapsed": 38,
     "status": "ok",
     "timestamp": 1743445408733,
     "user": {
      "displayName": "Daniel Neves Fachieri",
      "userId": "04892924693139647750"
     },
     "user_tz": 180
    },
    "id": "2qJmNXPKcY_8",
    "outputId": "e7917dcd-ef13-46b3-9f23-d03b85bf90f6"
   },
   "outputs": [
    {
     "data": {
      "text/plain": [
       "(110, 3)"
      ]
     },
     "execution_count": 101,
     "metadata": {},
     "output_type": "execute_result"
    }
   ],
   "source": [
    "np.array(df[df['x-coordinate'] >= df['x-coordinate'].max()*0.999][['x-coordinate','y-coordinate','z-coordinate']]).shape"
   ]
  },
  {
   "cell_type": "code",
   "execution_count": 81,
   "metadata": {
    "colab": {
     "base_uri": "https://localhost:8080/"
    },
    "executionInfo": {
     "elapsed": 51,
     "status": "ok",
     "timestamp": 1743443784431,
     "user": {
      "displayName": "Daniel Neves Fachieri",
      "userId": "04892924693139647750"
     },
     "user_tz": 180
    },
    "id": "-_1fw3Tj3BAf",
    "outputId": "1daa1fed-6321-442c-ba27-138799ac197f"
   },
   "outputs": [
    {
     "data": {
      "text/plain": [
       "array([[ 0.32989365,  0.01135485,  0.00454936],\n",
       "       [ 0.31980514,  0.01129742,  0.00457245],\n",
       "       [ 0.30327694,  0.01127893,  0.00461989],\n",
       "       ...,\n",
       "       [-0.03597382,  0.28932241,  0.00525313],\n",
       "       [-0.03597382,  0.28932241,  0.00525313],\n",
       "       [-0.03597382,  0.28932241,  0.00525313]])"
      ]
     },
     "execution_count": 81,
     "metadata": {},
     "output_type": "execute_result"
    }
   ],
   "source": [
    "np.transpose(streamlines[0])"
   ]
  },
  {
   "cell_type": "code",
   "execution_count": null,
   "metadata": {
    "colab": {
     "base_uri": "https://localhost:8080/"
    },
    "executionInfo": {
     "elapsed": 63580,
     "status": "ok",
     "timestamp": 1743436264958,
     "user": {
      "displayName": "Daniel Neves Fachieri",
      "userId": "04892924693139647750"
     },
     "user_tz": 180
    },
    "id": "d7uvdaly2uKF",
    "outputId": "084ae51f-3c05-4c2a-f7f5-f26221d19140"
   },
   "outputs": [
    {
     "ename": "KeyboardInterrupt",
     "evalue": "",
     "output_type": "error",
     "traceback": [
      "\u001b[31m---------------------------------------------------------------------------\u001b[39m",
      "\u001b[31mKeyboardInterrupt\u001b[39m                         Traceback (most recent call last)",
      "\u001b[36mCell\u001b[39m\u001b[36m \u001b[39m\u001b[32mIn[110]\u001b[39m\u001b[32m, line 4\u001b[39m\n\u001b[32m      2\u001b[39m vel = np.zeros_like(transpose)\n\u001b[32m      3\u001b[39m \u001b[38;5;28;01mfor\u001b[39;00m j \u001b[38;5;129;01min\u001b[39;00m \u001b[38;5;28mrange\u001b[39m(\u001b[38;5;28mlen\u001b[39m(transpose)):\n\u001b[32m----> \u001b[39m\u001b[32m4\u001b[39m   vel[j] = interpolator(transpose[j][\u001b[32m0\u001b[39m],transpose[j][\u001b[32m1\u001b[39m],transpose[j][\u001b[32m2\u001b[39m])\n\u001b[32m      5\u001b[39m \u001b[38;5;28mprint\u001b[39m(vel)\n",
      "\u001b[31mKeyboardInterrupt\u001b[39m: "
     ]
    }
   ],
   "source": [
    "transpose = np.transpose(streamlines[0])\n",
    "vel = np.zeros_like(transpose)\n",
    "for j in range(len(transpose)):\n",
    "  vel[j] = interpolator(transpose[j][0],transpose[j][1],transpose[j][2])\n",
    "print(vel)\n"
   ]
  },
  {
   "cell_type": "code",
   "execution_count": 58,
   "metadata": {
    "colab": {
     "base_uri": "https://localhost:8080/",
     "height": 558
    },
    "executionInfo": {
     "elapsed": 124,
     "status": "ok",
     "timestamp": 1743436614617,
     "user": {
      "displayName": "Daniel Neves Fachieri",
      "userId": "04892924693139647750"
     },
     "user_tz": 180
    },
    "id": "q-RbZM_151Wq",
    "outputId": "09f71bff-ac75-4012-e261-fa4ce2dff37e"
   },
   "outputs": [
    {
     "name": "stdout",
     "output_type": "stream",
     "text": [
      "[[6847    0]\n",
      " [6847    1]\n",
      " [6847    2]\n",
      " ...\n",
      " [9999    0]\n",
      " [9999    1]\n",
      " [9999    2]]\n"
     ]
    },
    {
     "data": {
      "image/png": "[encoded data removed]",
      "text/plain": [
       "<Figure size 640x480 with 1 Axes>"
      ]
     },
     "metadata": {},
     "output_type": "display_data"
    }
   ],
   "source": [
    "indices_nan = np.argwhere(np.isnan(vel))\n",
    "print(indices_nan)\n",
    "plt.hist(np.transpose(indices_nan)[0],10)\n",
    "plt.xlim(0,10000)\n",
    "plt.show()"
   ]
  },
  {
   "cell_type": "code",
   "execution_count": 38,
   "metadata": {
    "colab": {
     "base_uri": "https://localhost:8080/"
    },
    "executionInfo": {
     "elapsed": 6,
     "status": "ok",
     "timestamp": 1743435964952,
     "user": {
      "displayName": "Daniel Neves Fachieri",
      "userId": "04892924693139647750"
     },
     "user_tz": 180
    },
    "id": "2TRcam0n4Tu4",
    "outputId": "3147916b-ca13-413f-89be-ac176fefefc0"
   },
   "outputs": [
    {
     "data": {
      "text/plain": [
       "array([0.32989365, 0.01135485, 0.00454936])"
      ]
     },
     "execution_count": 38,
     "metadata": {},
     "output_type": "execute_result"
    }
   ],
   "source": [
    "transpose[0]"
   ]
  },
  {
   "cell_type": "code",
   "execution_count": 91,
   "metadata": {
    "colab": {
     "base_uri": "https://localhost:8080/",
     "height": 256
    },
    "executionInfo": {
     "elapsed": 419704,
     "status": "error",
     "timestamp": 1743445140633,
     "user": {
      "displayName": "Daniel Neves Fachieri",
      "userId": "04892924693139647750"
     },
     "user_tz": 180
    },
    "id": "dydd9jqrz2Kv",
    "outputId": "6ca12ed0-b573-4ccf-8923-6b11487b1738"
   },
   "outputs": [
    {
     "ename": "TypeError",
     "evalue": "only integer scalar arrays can be converted to a scalar index",
     "output_type": "error",
     "traceback": [
      "\u001b[0;31m---------------------------------------------------------------------------\u001b[0m",
      "\u001b[0;31mTypeError\u001b[0m                                 Traceback (most recent call last)",
      "\u001b[0;32m<ipython-input-91-ad2ea75f606a>\u001b[0m in \u001b[0;36m<cell line: 0>\u001b[0;34m()\u001b[0m\n\u001b[1;32m      1\u001b[0m \u001b[0mmodv\u001b[0m \u001b[0;34m=\u001b[0m \u001b[0mrecreate_vel_field\u001b[0m\u001b[0;34m(\u001b[0m\u001b[0minterpolator\u001b[0m\u001b[0;34m,\u001b[0m \u001b[0mstreamlines\u001b[0m\u001b[0;34m)\u001b[0m\u001b[0;34m\u001b[0m\u001b[0;34m\u001b[0m\u001b[0m\n\u001b[0;32m----> 2\u001b[0;31m \u001b[0mtempos\u001b[0m \u001b[0;34m=\u001b[0m \u001b[0mRTD\u001b[0m\u001b[0;34m(\u001b[0m\u001b[0mstreamlines\u001b[0m\u001b[0;34m,\u001b[0m \u001b[0mmodv\u001b[0m\u001b[0;34m)\u001b[0m\u001b[0;34m\u001b[0m\u001b[0;34m\u001b[0m\u001b[0m\n\u001b[0m",
      "\u001b[0;32m<ipython-input-90-ff20e17e42ab>\u001b[0m in \u001b[0;36mRTD\u001b[0;34m(streamlines, modv)\u001b[0m\n\u001b[1;32m     57\u001b[0m \u001b[0;34m\u001b[0m\u001b[0m\n\u001b[1;32m     58\u001b[0m     \u001b[0mmask\u001b[0m \u001b[0;34m=\u001b[0m \u001b[0mnp\u001b[0m\u001b[0;34m.\u001b[0m\u001b[0misnan\u001b[0m\u001b[0;34m(\u001b[0m\u001b[0mtempos\u001b[0m\u001b[0;34m)\u001b[0m\u001b[0;34m\u001b[0m\u001b[0;34m\u001b[0m\u001b[0m\n\u001b[0;32m---> 59\u001b[0;31m     \u001b[0;32mreturn\u001b[0m \u001b[0mtempos\u001b[0m\u001b[0;34m[\u001b[0m\u001b[0;34m~\u001b[0m\u001b[0mmask\u001b[0m\u001b[0;34m]\u001b[0m\u001b[0;34m\u001b[0m\u001b[0;34m\u001b[0m\u001b[0m\n\u001b[0m",
      "\u001b[0;31mTypeError\u001b[0m: only integer scalar arrays can be converted to a scalar index"
     ]
    }
   ],
   "source": [
    "modv = recreate_vel_field(interpolator, streamlines)\n",
    "tempos = RTD(streamlines, modv)"
   ]
  },
  {
   "cell_type": "code",
   "execution_count": 108,
   "metadata": {
    "executionInfo": {
     "elapsed": 23,
     "status": "ok",
     "timestamp": 1743445589582,
     "user": {
      "displayName": "Daniel Neves Fachieri",
      "userId": "04892924693139647750"
     },
     "user_tz": 180
    },
    "id": "J5Lu5uKvbxPl"
   },
   "outputs": [],
   "source": [
    "tempos = RTD(streamlines, modv)"
   ]
  },
  {
   "cell_type": "code",
   "execution_count": 114,
   "metadata": {
    "colab": {
     "base_uri": "https://localhost:8080/"
    },
    "executionInfo": {
     "elapsed": 55,
     "status": "ok",
     "timestamp": 1743445722907,
     "user": {
      "displayName": "Daniel Neves Fachieri",
      "userId": "04892924693139647750"
     },
     "user_tz": 180
    },
    "id": "WnltHSPhdj1J",
    "outputId": "770259e7-c28d-4468-acfd-7c14aa2ff253"
   },
   "outputs": [
    {
     "data": {
      "text/plain": [
       "array([        nan,         nan,         nan,         nan,         nan,\n",
       "               nan,         nan,         nan,         nan,         nan,\n",
       "               nan,         nan,         nan,         nan,         nan,\n",
       "               nan,         nan,         nan,         nan,         nan,\n",
       "               nan,         nan,         nan,  7.83741315,         nan,\n",
       "               nan,         nan, 14.61542765,         nan,         nan,\n",
       "               nan, 15.10367202,         nan,         nan,         nan,\n",
       "               nan,         nan,         nan,         nan,         nan,\n",
       "               nan,         nan,         nan,         nan,         nan,\n",
       "               nan,         nan,         nan,         nan,         nan,\n",
       "               nan,         nan,         nan,         nan,         nan,\n",
       "               nan,         nan,  8.10172118,         nan,         nan,\n",
       "               nan,         nan,         nan,         nan,         nan,\n",
       "               nan,         nan,         nan, 13.13991113,         nan,\n",
       "               nan,         nan,         nan,         nan,         nan,\n",
       "               nan,         nan,         nan,         nan,         nan,\n",
       "               nan,         nan,         nan,         nan,         nan,\n",
       "               nan,         nan,         nan, 11.13575823,         nan,\n",
       "               nan,         nan,         nan,         nan,         nan,\n",
       "               nan,         nan,         nan,         nan,         nan,\n",
       "               nan,         nan,         nan,         nan,         nan,\n",
       "               nan,         nan,         nan,         nan,         nan])"
      ]
     },
     "execution_count": 114,
     "metadata": {},
     "output_type": "execute_result"
    }
   ],
   "source": [
    "modv"
   ]
  },
  {
   "cell_type": "code",
   "execution_count": 109,
   "metadata": {
    "colab": {
     "base_uri": "https://localhost:8080/"
    },
    "executionInfo": {
     "elapsed": 45,
     "status": "ok",
     "timestamp": 1743445592026,
     "user": {
      "displayName": "Daniel Neves Fachieri",
      "userId": "04892924693139647750"
     },
     "user_tz": 180
    },
    "id": "d7nDH17jceT7",
    "outputId": "a40ef3b1-13e1-449f-8232-40874dfe6ca3"
   },
   "outputs": [
    {
     "data": {
      "text/plain": [
       "(59994,)"
      ]
     },
     "execution_count": 109,
     "metadata": {},
     "output_type": "execute_result"
    }
   ],
   "source": [
    "tempos.shape"
   ]
  },
  {
   "cell_type": "code",
   "execution_count": 18,
   "metadata": {
    "colab": {
     "base_uri": "https://localhost:8080/"
    },
    "executionInfo": {
     "elapsed": 16,
     "status": "ok",
     "timestamp": 1743435486584,
     "user": {
      "displayName": "Daniel Neves Fachieri",
      "userId": "04892924693139647750"
     },
     "user_tz": 180
    },
    "id": "0BHCHaSj11ON",
    "outputId": "62821791-b7ae-44b6-d1b5-7f80bad65758"
   },
   "outputs": [
    {
     "name": "stdout",
     "output_type": "stream",
     "text": [
      "3.7416573867739413\n"
     ]
    }
   ],
   "source": [
    "v = np.array([1,2,3])\n",
    "print(np.sqrt(np.sum(v**2)))"
   ]
  },
  {
   "cell_type": "code",
   "execution_count": 15,
   "metadata": {
    "colab": {
     "base_uri": "https://localhost:8080/",
     "height": 410
    },
    "executionInfo": {
     "elapsed": 402,
     "status": "ok",
     "timestamp": 1743434751807,
     "user": {
      "displayName": "Daniel Neves Fachieri",
      "userId": "04892924693139647750"
     },
     "user_tz": 180
    },
    "id": "2kDhQOnP1VXa",
    "outputId": "36faa688-a606-4d10-8817-691043e42020"
   },
   "outputs": [
    {
     "data": {
      "image/png": "[encoded data removed]",
      "text/plain": [
       "<Figure size 640x480 with 1 Axes>"
      ]
     },
     "metadata": {},
     "output_type": "display_data"
    }
   ],
   "source": [
    "plot_streamlines(streamline[:])"
   ]
  },
  {
   "cell_type": "code",
   "execution_count": null,
   "metadata": {
    "colab": {
     "base_uri": "https://localhost:8080/",
     "height": 472
    },
    "executionInfo": {
     "elapsed": 278,
     "status": "ok",
     "timestamp": 1743368683700,
     "user": {
      "displayName": "Daniel Neves Fachieri",
      "userId": "04892924693139647750"
     },
     "user_tz": 180
    },
    "id": "w6ip9VPG0Bws",
    "outputId": "57104a07-04de-4635-c564-3052fbd86962"
   },
   "outputs": [
    {
     "ename": "InvalidIndexError",
     "evalue": "(slice(None, None, None), 1)",
     "output_type": "error",
     "traceback": [
      "\u001b[31m---------------------------------------------------------------------------\u001b[39m",
      "\u001b[31mKeyError\u001b[39m                                  Traceback (most recent call last)",
      "\u001b[36mFile \u001b[39m\u001b[32mc:\\Users\\Daniel\\AppData\\Local\\Programs\\Python\\Python313\\Lib\\site-packages\\pandas\\core\\indexes\\base.py:3805\u001b[39m, in \u001b[36mIndex.get_loc\u001b[39m\u001b[34m(self, key)\u001b[39m\n\u001b[32m   3804\u001b[39m \u001b[38;5;28;01mtry\u001b[39;00m:\n\u001b[32m-> \u001b[39m\u001b[32m3805\u001b[39m     \u001b[38;5;28;01mreturn\u001b[39;00m \u001b[38;5;28;43mself\u001b[39;49m\u001b[43m.\u001b[49m\u001b[43m_engine\u001b[49m\u001b[43m.\u001b[49m\u001b[43mget_loc\u001b[49m\u001b[43m(\u001b[49m\u001b[43mcasted_key\u001b[49m\u001b[43m)\u001b[49m\n\u001b[32m   3806\u001b[39m \u001b[38;5;28;01mexcept\u001b[39;00m \u001b[38;5;167;01mKeyError\u001b[39;00m \u001b[38;5;28;01mas\u001b[39;00m err:\n",
      "\u001b[36mFile \u001b[39m\u001b[32mindex.pyx:167\u001b[39m, in \u001b[36mpandas._libs.index.IndexEngine.get_loc\u001b[39m\u001b[34m()\u001b[39m\n",
      "\u001b[36mFile \u001b[39m\u001b[32mindex.pyx:196\u001b[39m, in \u001b[36mpandas._libs.index.IndexEngine.get_loc\u001b[39m\u001b[34m()\u001b[39m\n",
      "\u001b[36mFile \u001b[39m\u001b[32mpandas\\\\_libs\\\\hashtable_class_helper.pxi:7081\u001b[39m, in \u001b[36mpandas._libs.hashtable.PyObjectHashTable.get_item\u001b[39m\u001b[34m()\u001b[39m\n",
      "\u001b[36mFile \u001b[39m\u001b[32mpandas\\\\_libs\\\\hashtable_class_helper.pxi:7089\u001b[39m, in \u001b[36mpandas._libs.hashtable.PyObjectHashTable.get_item\u001b[39m\u001b[34m()\u001b[39m\n",
      "\u001b[31mKeyError\u001b[39m: (slice(None, None, None), 1)",
      "\nDuring handling of the above exception, another exception occurred:\n",
      "\u001b[31mInvalidIndexError\u001b[39m                         Traceback (most recent call last)",
      "\u001b[36mCell\u001b[39m\u001b[36m \u001b[39m\u001b[32mIn[31]\u001b[39m\u001b[32m, line 2\u001b[39m\n\u001b[32m      1\u001b[39m plt.figure()\n\u001b[32m----> \u001b[39m\u001b[32m2\u001b[39m plt.scatter(\u001b[43mseeds\u001b[49m\u001b[43m[\u001b[49m\u001b[43m:\u001b[49m\u001b[43m,\u001b[49m\u001b[32;43m1\u001b[39;49m\u001b[43m]\u001b[49m,seeds[:,\u001b[32m2\u001b[39m],s=\u001b[32m50\u001b[39m,color=\u001b[33m\"\u001b[39m\u001b[33mblue\u001b[39m\u001b[33m\"\u001b[39m)\n\u001b[32m      3\u001b[39m plt.xlabel(\u001b[33m\"\u001b[39m\u001b[33mY (m)\u001b[39m\u001b[33m\"\u001b[39m)\n\u001b[32m      4\u001b[39m plt.ylabel(\u001b[33m\"\u001b[39m\u001b[33mZ (m)\u001b[39m\u001b[33m\"\u001b[39m)\n",
      "\u001b[36mFile \u001b[39m\u001b[32mc:\\Users\\Daniel\\AppData\\Local\\Programs\\Python\\Python313\\Lib\\site-packages\\pandas\\core\\frame.py:4102\u001b[39m, in \u001b[36mDataFrame.__getitem__\u001b[39m\u001b[34m(self, key)\u001b[39m\n\u001b[32m   4100\u001b[39m \u001b[38;5;28;01mif\u001b[39;00m \u001b[38;5;28mself\u001b[39m.columns.nlevels > \u001b[32m1\u001b[39m:\n\u001b[32m   4101\u001b[39m     \u001b[38;5;28;01mreturn\u001b[39;00m \u001b[38;5;28mself\u001b[39m._getitem_multilevel(key)\n\u001b[32m-> \u001b[39m\u001b[32m4102\u001b[39m indexer = \u001b[38;5;28;43mself\u001b[39;49m\u001b[43m.\u001b[49m\u001b[43mcolumns\u001b[49m\u001b[43m.\u001b[49m\u001b[43mget_loc\u001b[49m\u001b[43m(\u001b[49m\u001b[43mkey\u001b[49m\u001b[43m)\u001b[49m\n\u001b[32m   4103\u001b[39m \u001b[38;5;28;01mif\u001b[39;00m is_integer(indexer):\n\u001b[32m   4104\u001b[39m     indexer = [indexer]\n",
      "\u001b[36mFile \u001b[39m\u001b[32mc:\\Users\\Daniel\\AppData\\Local\\Programs\\Python\\Python313\\Lib\\site-packages\\pandas\\core\\indexes\\base.py:3811\u001b[39m, in \u001b[36mIndex.get_loc\u001b[39m\u001b[34m(self, key)\u001b[39m\n\u001b[32m   3806\u001b[39m \u001b[38;5;28;01mexcept\u001b[39;00m \u001b[38;5;167;01mKeyError\u001b[39;00m \u001b[38;5;28;01mas\u001b[39;00m err:\n\u001b[32m   3807\u001b[39m     \u001b[38;5;28;01mif\u001b[39;00m \u001b[38;5;28misinstance\u001b[39m(casted_key, \u001b[38;5;28mslice\u001b[39m) \u001b[38;5;129;01mor\u001b[39;00m (\n\u001b[32m   3808\u001b[39m         \u001b[38;5;28misinstance\u001b[39m(casted_key, abc.Iterable)\n\u001b[32m   3809\u001b[39m         \u001b[38;5;129;01mand\u001b[39;00m \u001b[38;5;28many\u001b[39m(\u001b[38;5;28misinstance\u001b[39m(x, \u001b[38;5;28mslice\u001b[39m) \u001b[38;5;28;01mfor\u001b[39;00m x \u001b[38;5;129;01min\u001b[39;00m casted_key)\n\u001b[32m   3810\u001b[39m     ):\n\u001b[32m-> \u001b[39m\u001b[32m3811\u001b[39m         \u001b[38;5;28;01mraise\u001b[39;00m InvalidIndexError(key)\n\u001b[32m   3812\u001b[39m     \u001b[38;5;28;01mraise\u001b[39;00m \u001b[38;5;167;01mKeyError\u001b[39;00m(key) \u001b[38;5;28;01mfrom\u001b[39;00m\u001b[38;5;250m \u001b[39m\u001b[34;01merr\u001b[39;00m\n\u001b[32m   3813\u001b[39m \u001b[38;5;28;01mexcept\u001b[39;00m \u001b[38;5;167;01mTypeError\u001b[39;00m:\n\u001b[32m   3814\u001b[39m     \u001b[38;5;66;03m# If we have a listlike key, _check_indexing_error will raise\u001b[39;00m\n\u001b[32m   3815\u001b[39m     \u001b[38;5;66;03m#  InvalidIndexError. Otherwise we fall through and re-raise\u001b[39;00m\n\u001b[32m   3816\u001b[39m     \u001b[38;5;66;03m#  the TypeError.\u001b[39;00m\n",
      "\u001b[31mInvalidIndexError\u001b[39m: (slice(None, None, None), 1)"
     ]
    },
    {
     "data": {
      "text/plain": [
       "<Figure size 640x480 with 0 Axes>"
      ]
     },
     "metadata": {},
     "output_type": "display_data"
    }
   ],
   "source": [
    "plt.figure()\n",
    "plt.scatter(seeds[:,1],seeds[:,2],s=50,color=\"blue\")\n",
    "plt.xlabel(\"Y (m)\")\n",
    "plt.ylabel(\"Z (m)\")\n",
    "plt.title(\"Seeds\")\n",
    "#plt.xlim(0.3295,0.330)\n",
    "#plt.ylim(0.0080,0.012)\n",
    "plt.show()"
   ]
  },
  {
   "cell_type": "code",
   "execution_count": null,
   "metadata": {
    "id": "D3NBDdm0DQFF"
   },
   "outputs": [],
   "source": [
    "vel_field = recreate_vel_field(interpolator,streamlines)"
   ]
  },
  {
   "cell_type": "code",
   "execution_count": 73,
   "metadata": {
    "colab": {
     "base_uri": "https://localhost:8080/"
    },
    "executionInfo": {
     "elapsed": 52,
     "status": "ok",
     "timestamp": 1743442258728,
     "user": {
      "displayName": "Daniel Neves Fachieri",
      "userId": "04892924693139647750"
     },
     "user_tz": 180
    },
    "id": "3f8eJbrRNrFT",
    "outputId": "bdbcd9c3-0f3c-4215-bc71-2225929a8b44"
   },
   "outputs": [
    {
     "name": "stdout",
     "output_type": "stream",
     "text": [
      "0.23578510087688198\n"
     ]
    }
   ],
   "source": [
    "d = 3e-3 #diametro do inlet\n",
    "r = d/2 #raio metade do diâmetro\n",
    "V = 6e-3 #volume 16L = 16e-3m^3\n",
    "dt = 3600 # 1h = 3600s\n",
    "Z = V/dt #vazâo\n",
    "A = np.pi*r**2 #área da seção transversal\n",
    "v = Z/A #velocidade do fluido na seção\n",
    "print(v)"
   ]
  },
  {
   "cell_type": "code",
   "execution_count": null,
   "metadata": {
    "id": "PTxJhFnsOfHn"
   },
   "outputs": [],
   "source": []
  }
 ],
 "metadata": {
  "colab": {
   "authorship_tag": "ABX9TyMz9m02t6fTIEz5dmfyfjYh",
   "mount_file_id": "1-HQfZy7iYdqHjXjWsjVdA6068-_P1rCK",
   "provenance": []
  },
  "kernelspec": {
   "display_name": "Python 3",
   "name": "python3"
  },
  "language_info": {
   "codemirror_mode": {
    "name": "ipython",
    "version": 3
   },
   "file_extension": ".py",
   "mimetype": "text/x-python",
   "name": "python",
   "nbconvert_exporter": "python",
   "pygments_lexer": "ipython3",
   "version": "3.13.1"
  }
 },
 "nbformat": 4,
 "nbformat_minor": 0
}
